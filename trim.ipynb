{
 "cells": [
  {
   "cell_type": "code",
   "execution_count": 5,
   "metadata": {},
   "outputs": [
    {
     "name": "stdout",
     "output_type": "stream",
     "text": [
      "\n",
      "It is always difficult to write a book about a topic that is still a subject of active\n",
      "research. Part of the challenge lies in translating research papers directly into a\n",
      "text. Without the benefit of decades of classroom instruction, there is no existing\n",
      "body of pedagogical arguments and exercises to draw from.\n",
      "Even more challenging is the task of deciding which material to include. Who\n",
      "knows which approaches will withstand the test of time? It is impossible to know,\n",
      "so in this text we have tried to include only those subjects of the field which we\n",
      "consider most likely to be timeless. That is, we present the fundamentals and the\n",
      "proven results, hoping that afterwards the reader will be prepared to read and\n",
      "understand the current literature. Certainly there is much to add to this material\n",
      "as the research continues, but we have tried to take care that nothing need be\n",
      "subtracted. Of course this has come at the expense of leaving out new and exciting\n",
      "results which are a bit more speculative.\n",
      "If we have succeeded in these tasks, it is only because of the assistance\n",
      "of dozens of colleagues and friends. In particular, we have benefited from\n",
      "collaborations with Oscar Alerhand, G. Arjavalingam, Karl Brommer, Shanhui\n",
      "Fan, Ilya Kurland, Andrew Rappe, Bill Robertson, and Eli Yablonovitch. We also\n",
      "thank Paul Gourley and Pierre Villeneuve for their contributions to this book. In\n",
      "addition, we gratefully thank Tomas Arias and Kyeongjae Cho for helpful insights\n",
      "and productive conversations. Finally, we would like to acknowledge the partial\n",
      "support of the Office of Naval Research and the Army Research Office while this\n",
      "manuscript was being prepared.\n",
      " \n",
      "\n",
      "  It is always difficult to write a book about a topic that is still a subject of active research. Part of the challenge lies in translating research papers directly into a text. Without the benefit of decades of classroom instruction, there is no existing body of pedagogical arguments and exercises to draw from. Even more challenging is the task of deciding which material to include. Who knows which approaches will withstand the test of time? It is impossible to know, so in this text we have tried to include only those subjects of the field which we consider most likely to be timeless. That is, we present the fundamentals and the proven results, hoping that afterwards the reader will be prepared to read and understand the current literature. Certainly there is much to add to this material as the research continues, but we have tried to take care that nothing need be subtracted. Of course this has come at the expense of leaving out new and exciting results which are a bit more speculative. If we have succeeded in these tasks, it is only because of the assistance of dozens of colleagues and friends. In particular, we have benefited from collaborations with Oscar Alerhand, G. Arjavalingam, Karl Brommer, Shanhui Fan, Ilya Kurland, Andrew Rappe, Bill Robertson, and Eli Yablonovitch. We also thank Paul Gourley and Pierre Villeneuve for their contributions to this book. In addition, we gratefully thank Tomas Arias and Kyeongjae Cho for helpful insights and productive conversations. Finally, we would like to acknowledge the partial support of the Office of Naval Research and the Army Research Office while this manuscript was being prepared.  \n",
      "\n",
      " It is always difficult to write a book about a topic that is still a subject of active research. Part of the challenge lies in translating research papers directly into a text. Without the benefit of decades of classroom instruction, there is no existing body of pedagogical arguments and exercises to draw from. Even more challenging is the task of deciding which material to include. Who knows which approaches will withstand the test of time? It is impossible to know, so in this text we have tried to include only those subjects of the field which we consider most likely to be timeless. That is, we present the fundamentals and the proven results, hoping that afterwards the reader will be prepared to read and understand the current literature. Certainly there is much to add to this material as the research continues, but we have tried to take care that nothing need be subtracted. Of course this has come at the expense of leaving out new and exciting results which are a bit more speculative. If we have succeeded in these tasks, it is only because of the assistance of dozens of colleagues and friends. In particular, we have benefited from collaborations with Oscar Alerhand, G. Arjavalingam, Karl Brommer, Shanhui Fan, Ilya Kurland, Andrew Rappe, Bill Robertson, and Eli Yablonovitch. We also thank Paul Gourley and Pierre Villeneuve for their contributions to this book. In addition, we gratefully thank Tomas Arias and Kyeongjae Cho for helpful insights and productive conversations. Finally, we would like to acknowledge the partial support of the Office of Naval Research and the Army Research Office while this manuscript was being prepared.  \n",
      "\n"
     ]
    }
   ],
   "source": [
    "string =\"\"\"\n",
    "It is always difficult to write a book about a topic that is still a subject of active\n",
    "research. Part of the challenge lies in translating research papers directly into a\n",
    "text. Without the benefit of decades of classroom instruction, there is no existing\n",
    "body of pedagogical arguments and exercises to draw from.\n",
    "Even more challenging is the task of deciding which material to include. Who\n",
    "knows which approaches will withstand the test of time? It is impossible to know,\n",
    "so in this text we have tried to include only those subjects of the field which we\n",
    "consider most likely to be timeless. That is, we present the fundamentals and the\n",
    "proven results, hoping that afterwards the reader will be prepared to read and\n",
    "understand the current literature. Certainly there is much to add to this material\n",
    "as the research continues, but we have tried to take care that nothing need be\n",
    "subtracted. Of course this has come at the expense of leaving out new and exciting\n",
    "results which are a bit more speculative.\n",
    "If we have succeeded in these tasks, it is only because of the assistance\n",
    "of dozens of colleagues and friends. In particular, we have benefited from\n",
    "collaborations with Oscar Alerhand, G. Arjavalingam, Karl Brommer, Shanhui\n",
    "Fan, Ilya Kurland, Andrew Rappe, Bill Robertson, and Eli Yablonovitch. We also\n",
    "thank Paul Gourley and Pierre Villeneuve for their contributions to this book. In\n",
    "addition, we gratefully thank Tomas Arias and Kyeongjae Cho for helpful insights\n",
    "and productive conversations. Finally, we would like to acknowledge the partial\n",
    "support of the Office of Naval Research and the Army Research Office while this\n",
    "manuscript was being prepared.\n",
    "\"\"\"\n",
    "\n",
    "trimmed_char = [\"\\n\"]\n",
    "\n",
    "print(string, \"\\n\")\n",
    "for char in range(len(trimmed_char)):\n",
    "    string = string.replace(trimmed_char[char], \" \")\n",
    "\n",
    "print(\"\", string, \"\\n\")\n",
    "\n",
    "string = string.replace(\"-\", \"\")\n",
    "print(string, \"\\n\")"
   ]
  },
  {
   "cell_type": "markdown",
   "metadata": {},
   "source": [
    "本書の初版が好評であったことは、私たちにとって大きな喜びでした。新しい分野が誕生して最初の教科書を書くときには、当然ながら不安もある。その分野がどんどん発展していくことを切に願う一方で、せっかく書いた本がすぐに陳腐化してしまうのでは？そこで、初版では、この新しい分野の基本的な概念と構成要素に焦点を当て、思索的な部分を省くことを心がけました。この分野が飛躍的に成長した10年後にも、初版への関心が続いていることを考えると、この点では成功したのかもしれません。もちろん、大きな成長には、多くの新しい現象や、古い現象に対する深い理解が必要です。そこで、この度、第2版を刊行する運びとなりました。本書では、これまでと同様、新しい概念や現象、よく理解されている記述など、時代の変化に対応できるような内容を盛り込むように努めました。また、従来の章を拡張し、新しい章を設け、さらに従来の章を大幅に改訂しました。例えば、第2章では、摂動解析の有用な手法を紹介するセクションや、離散周波数帯と連続周波数帯の微妙な違いを理解するためのセクションが追加されました。第3章では、インデックスガイドの基本を説明する章と、ブロッホ波の伝搬速度を理解するための章を設けました。第4章では、フォトニック結晶のバンドギャップの最適な定量化方法と、多層膜システムにおける新しい現象である全方位反射の説明のセクションを設けています。第5章では、点欠陥のセクションを拡張し、線欠陥と導波路のセクションを追加しました。第6章は、3次元フォトニック結晶構造の多くの新しい側面に焦点を当て、いくつかのよく知られた形状のフォトニック構造を含む、大幅な改訂が行われました。第7章から第9章はすべて新しく、それぞれ1次元周期誘電体導波路、2次元周期フォトニック結晶スラブ、フォトニック結晶ファイバーからなるハイブリッドフォトニック結晶構造について解説している。最終章である第10章（初版は第7章）では、再びフォトニック結晶の応用設計に焦点を当て、より多くの例を掲載しています。また、この章では、時間結合モード理論の紹介と実践的なガイドが追加されている。これは、多くの種類のフォトニックデバイスの挙動を理解し予測するための、非常にシンプルで便利でありながら強力な解析手法である。また、2つの付録も大幅に拡充されました。付録Cでは、2Dおよび3Dフォトニック結晶のギャップサイズと最適パラメータをインデックスコントラストでプロットしました。さらに、付録Dでは、周波数領域と時間領域の両方における計算機フォトニクスについて、全く新しい解説を加えました。 \\n\n",
    "\n",
    "第2版では、その他に2つの大きな変更点があります。1つは、SI単位への変更である。これは2章と3章の一部の式にのみ影響し、「マスター式」は変更されません。もう1つは、電場と磁場のプロットのための新しいカラーテーブルの変更である。この新しいカラー表は、従来のカラー表と比較して、電場の局在性と符号依存性をよりすっきりと明確に表現しており、読者の皆様にもご賛同いただけると思います。第2版の作成にあたり、MITの凝縮系理論グループの事務局員であるMargaret O'Mearaが無欲に提供してくれたすべての時間と労力に心から感謝したい。また、編集者のIngrid Gnerlichには、締め切りに間に合わないときにも忍耐と理解を示し、プロセスのあらゆる面で著しい好意を示してくれたことに、大きな感謝を捧げたい。また、多くの同僚にも感謝しています。Eli Yablonovitch, David Norris, Marko Lonˇcar, Shawn Lin, Leslie Kolodziejski, Karl Koch, and Kiyoshi Asakawa, and Yoel Fink, Shanhui Fan, Peter Bienstman, Mihai Ibanescu, Michelle Povinelli, Marin Soljacic, Maksim Skorobogatiy, Lionel Kimerling, Lefteris Lidorikis, K. C. K., and Jerry Huang. C. Huang, Jerry Chen, Hermann Haus, Henry Smith, Evan Reed, Erich Ippen, Edwin Thomas, David Roundy, David Chan, Chiyan Luo, Attila Mekis, Aristos Karalis, Ardavan Farjadpour, Alejandro Rodriguez, 多数の共同研究に対して感謝します。 "
   ]
  },
  {
   "cell_type": "markdown",
   "metadata": {},
   "source": [
    " 現在も活発に研究が行われているテーマについて本を書くのは、常に難しいものです。その難しさの一端は、研究論文をそのまま文章にすることにある。何十年にもわたる教室での指導がなければ、既存の教育学的な議論や演習を利用することはできない。さらに困難なのは、どの教材を取り入れるかを決めることである。どのようなアプローチが時の試練に耐えられるか、誰がわかるでしょうか。そのため、このテキストでは、時代を超越する可能性が高いと思われる分野のテーマだけを取り上げるようにしました。つまり、読者が現在の文献を読み、理解できるようになることを願いつつ、基礎と実績のある結果を紹介したのである。確かに、研究が進めば、この資料に付け加えるべきことはたくさんあるが、何も差し引く必要がないように配慮したつもりである。もちろん、その代償として、より推測的な、新しくエキサイティングな結果も残している。これらの作業を成功させることができたのは、何十人もの同僚や友人の協力があったからにほかならない。特に、Oscar Alerhand, G. Arjavalingam, Karl Brommer, Shanhui Fan, Ilya Kurland, Andrew Rappe, Bill Robertson, and Eli Yablonovitchとの共同作業から恩恵を受けている。また、Paul Gourley と Pierre Villeneuve には、本書への貢献に対して感謝の意を表する。さらに、Tomas AriasとKyeongjae Choには、有益な洞察と生産的な会話をしていただき、感謝している。最後に、この原稿の作成中にOffice of Naval ResearchとArmy Research Officeから一部支援を受けたことに感謝したい。 "
   ]
  },
  {
   "cell_type": "markdown",
   "metadata": {},
   "source": []
  }
 ],
 "metadata": {
  "interpreter": {
   "hash": "1079aad561119aaf83083f7d8ab612db67fa77a460aca9050e862fdfd67e2d30"
  },
  "kernelspec": {
   "display_name": "Python 3.9.2 64-bit",
   "name": "python3"
  },
  "language_info": {
   "codemirror_mode": {
    "name": "ipython",
    "version": 3
   },
   "file_extension": ".py",
   "mimetype": "text/x-python",
   "name": "python",
   "nbconvert_exporter": "python",
   "pygments_lexer": "ipython3",
   "version": "3.9.2"
  },
  "orig_nbformat": 4
 },
 "nbformat": 4,
 "nbformat_minor": 2
}
